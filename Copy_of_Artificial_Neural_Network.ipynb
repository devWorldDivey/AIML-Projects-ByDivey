{
  "cells": [
    {
      "cell_type": "markdown",
      "metadata": {
        "id": "view-in-github",
        "colab_type": "text"
      },
      "source": [
        "<a href=\"https://colab.research.google.com/github/devWorldDivey/AIML-Projects-ByDivey/blob/main/Copy_of_Artificial_Neural_Network.ipynb\" target=\"_parent\"><img src=\"https://colab.research.google.com/assets/colab-badge.svg\" alt=\"Open In Colab\"/></a>"
      ]
    },
    {
      "cell_type": "markdown",
      "metadata": {
        "id": "3cbb7fRy-eyr"
      },
      "source": [
        "# Artificial Neural Network"
      ]
    },
    {
      "cell_type": "markdown",
      "metadata": {
        "id": "8sNDnxE2-pwE"
      },
      "source": [
        "### Importing the libraries"
      ]
    },
    {
      "cell_type": "code",
      "execution_count": 1,
      "metadata": {
        "id": "lxChR1Rk-umf"
      },
      "outputs": [],
      "source": [
        "import numpy as np\n",
        "import pandas as pd\n",
        "import tensorflow as tf"
      ]
    },
    {
      "cell_type": "code",
      "execution_count": 2,
      "metadata": {
        "colab": {
          "base_uri": "https://localhost:8080/",
          "height": 35
        },
        "id": "uBTqR3nacj0e",
        "outputId": "bfb42e8a-2534-42c8-cbef-7d71d86c2b8a"
      },
      "outputs": [
        {
          "output_type": "execute_result",
          "data": {
            "text/plain": [
              "'2.13.0'"
            ],
            "application/vnd.google.colaboratory.intrinsic+json": {
              "type": "string"
            }
          },
          "metadata": {},
          "execution_count": 2
        }
      ],
      "source": [
        "tf.__version__"
      ]
    },
    {
      "cell_type": "markdown",
      "metadata": {
        "id": "AG3FQEch-yuA"
      },
      "source": [
        "## Part 1 - Data Preprocessing"
      ]
    },
    {
      "cell_type": "markdown",
      "metadata": {
        "id": "-4zq8Mza_D9O"
      },
      "source": [
        "### Importing the dataset"
      ]
    },
    {
      "cell_type": "code",
      "execution_count": 3,
      "metadata": {
        "id": "B9CV13Co_HHM"
      },
      "outputs": [],
      "source": [
        "dataset = pd.read_excel('Folds5x2_pp.xlsx')\n",
        "X = dataset.iloc[:, :-1].values\n",
        "y = dataset.iloc[:, -1].values"
      ]
    },
    {
      "cell_type": "code",
      "source": [
        "print(X)\n",
        "print(y)"
      ],
      "metadata": {
        "colab": {
          "base_uri": "https://localhost:8080/"
        },
        "id": "8aLmF3PFTXlH",
        "outputId": "8513b836-e2d4-4f75-bc0a-c97f688e9c7c"
      },
      "execution_count": 4,
      "outputs": [
        {
          "output_type": "stream",
          "name": "stdout",
          "text": [
            "[[  14.96   41.76 1024.07   73.17]\n",
            " [  25.18   62.96 1020.04   59.08]\n",
            " [   5.11   39.4  1012.16   92.14]\n",
            " ...\n",
            " [  31.32   74.33 1012.92   36.48]\n",
            " [  24.48   69.45 1013.86   62.39]\n",
            " [  21.6    62.52 1017.23   67.87]]\n",
            "[463.26 444.37 488.56 ... 429.57 435.74 453.28]\n"
          ]
        }
      ]
    },
    {
      "cell_type": "markdown",
      "metadata": {
        "id": "VC6omXel_Up0"
      },
      "source": [
        "### Splitting the dataset into the Training set and Test set"
      ]
    },
    {
      "cell_type": "code",
      "execution_count": 5,
      "metadata": {
        "id": "L5edeb2r_agx"
      },
      "outputs": [],
      "source": [
        "from sklearn.model_selection import train_test_split\n",
        "X_train, X_test, y_train, y_test = train_test_split(X, y, test_size = 0.2, random_state = 0)"
      ]
    },
    {
      "cell_type": "markdown",
      "metadata": {
        "id": "_mSLlAT9_eyI"
      },
      "source": [
        "## Part 2 - Building the ANN"
      ]
    },
    {
      "cell_type": "markdown",
      "metadata": {
        "id": "CsBULd_f_wLY"
      },
      "source": [
        "### Initializing the ANN"
      ]
    },
    {
      "cell_type": "code",
      "execution_count": 6,
      "metadata": {
        "id": "J6Hd97Ls__Nz"
      },
      "outputs": [],
      "source": [
        "ann = tf.keras.models.Sequential()"
      ]
    },
    {
      "cell_type": "markdown",
      "metadata": {
        "id": "iitAFJS_ABUn"
      },
      "source": [
        "### Adding the input layer and the first hidden layer"
      ]
    },
    {
      "cell_type": "code",
      "execution_count": 7,
      "metadata": {
        "id": "ksO_Vv40AHix"
      },
      "outputs": [],
      "source": [
        "ann.add(tf.keras.layers.Dense(units=6, activation='relu'))"
      ]
    },
    {
      "cell_type": "markdown",
      "metadata": {
        "id": "-lb4kK_wAKbs"
      },
      "source": [
        "### Adding the second hidden layer"
      ]
    },
    {
      "cell_type": "code",
      "execution_count": 8,
      "metadata": {
        "id": "c2357OqEAQOQ"
      },
      "outputs": [],
      "source": [
        "ann.add(tf.keras.layers.Dense(units=6, activation='relu'))"
      ]
    },
    {
      "cell_type": "markdown",
      "metadata": {
        "id": "jwMOmKb3AdBY"
      },
      "source": [
        "### Adding the output layer"
      ]
    },
    {
      "cell_type": "code",
      "execution_count": 9,
      "metadata": {
        "id": "YFATpzsUAkLL"
      },
      "outputs": [],
      "source": [
        "ann.add(tf.keras.layers.Dense(units=1))"
      ]
    },
    {
      "cell_type": "markdown",
      "metadata": {
        "id": "fq7e4fF6A1yy"
      },
      "source": [
        "## Part 3 - Training the ANN"
      ]
    },
    {
      "cell_type": "markdown",
      "metadata": {
        "id": "qDeylAs2An25"
      },
      "source": [
        "### Compiling the ANN"
      ]
    },
    {
      "cell_type": "code",
      "execution_count": 10,
      "metadata": {
        "id": "pesgbWlCAtB4"
      },
      "outputs": [],
      "source": [
        "ann.compile(optimizer = 'adam', loss = 'mean_squared_error')"
      ]
    },
    {
      "cell_type": "markdown",
      "metadata": {
        "id": "YjVuiybYOo7r"
      },
      "source": [
        "### Training the ANN model on the Training set"
      ]
    },
    {
      "cell_type": "code",
      "execution_count": 11,
      "metadata": {
        "colab": {
          "base_uri": "https://localhost:8080/"
        },
        "id": "c_vV-tiiA5zn",
        "outputId": "0612619a-1fab-4b01-f6ee-3b1cb23a1c41"
      },
      "outputs": [
        {
          "output_type": "stream",
          "name": "stdout",
          "text": [
            "Epoch 1/100\n",
            "240/240 [==============================] - 1s 1ms/step - loss: 80131.6953\n",
            "Epoch 2/100\n",
            "240/240 [==============================] - 0s 1ms/step - loss: 313.6616\n",
            "Epoch 3/100\n",
            "240/240 [==============================] - 0s 1ms/step - loss: 305.3244\n",
            "Epoch 4/100\n",
            "240/240 [==============================] - 0s 1ms/step - loss: 294.4549\n",
            "Epoch 5/100\n",
            "240/240 [==============================] - 0s 1ms/step - loss: 282.2591\n",
            "Epoch 6/100\n",
            "240/240 [==============================] - 0s 1ms/step - loss: 268.6142\n",
            "Epoch 7/100\n",
            "240/240 [==============================] - 0s 1ms/step - loss: 252.9684\n",
            "Epoch 8/100\n",
            "240/240 [==============================] - 0s 972us/step - loss: 236.2188\n",
            "Epoch 9/100\n",
            "240/240 [==============================] - 0s 1ms/step - loss: 218.7270\n",
            "Epoch 10/100\n",
            "240/240 [==============================] - 0s 1ms/step - loss: 200.4577\n",
            "Epoch 11/100\n",
            "240/240 [==============================] - 0s 2ms/step - loss: 181.1736\n",
            "Epoch 12/100\n",
            "240/240 [==============================] - 0s 2ms/step - loss: 162.1109\n",
            "Epoch 13/100\n",
            "240/240 [==============================] - 0s 2ms/step - loss: 143.3494\n",
            "Epoch 14/100\n",
            "240/240 [==============================] - 0s 2ms/step - loss: 125.3867\n",
            "Epoch 15/100\n",
            "240/240 [==============================] - 1s 2ms/step - loss: 107.8476\n",
            "Epoch 16/100\n",
            "240/240 [==============================] - 0s 2ms/step - loss: 92.0017\n",
            "Epoch 17/100\n",
            "240/240 [==============================] - 0s 2ms/step - loss: 77.2074\n",
            "Epoch 18/100\n",
            "240/240 [==============================] - 0s 2ms/step - loss: 65.0200\n",
            "Epoch 19/100\n",
            "240/240 [==============================] - 0s 2ms/step - loss: 54.7206\n",
            "Epoch 20/100\n",
            "240/240 [==============================] - 1s 2ms/step - loss: 46.3345\n",
            "Epoch 21/100\n",
            "240/240 [==============================] - 1s 3ms/step - loss: 40.3060\n",
            "Epoch 22/100\n",
            "240/240 [==============================] - 1s 3ms/step - loss: 35.9902\n",
            "Epoch 23/100\n",
            "240/240 [==============================] - 0s 2ms/step - loss: 33.0203\n",
            "Epoch 24/100\n",
            "240/240 [==============================] - 0s 2ms/step - loss: 31.1080\n",
            "Epoch 25/100\n",
            "240/240 [==============================] - 0s 2ms/step - loss: 29.5699\n",
            "Epoch 26/100\n",
            "240/240 [==============================] - 0s 2ms/step - loss: 28.9478\n",
            "Epoch 27/100\n",
            "240/240 [==============================] - 0s 2ms/step - loss: 28.3618\n",
            "Epoch 28/100\n",
            "240/240 [==============================] - 0s 2ms/step - loss: 28.3292\n",
            "Epoch 29/100\n",
            "240/240 [==============================] - 1s 2ms/step - loss: 27.9930\n",
            "Epoch 30/100\n",
            "240/240 [==============================] - 0s 1ms/step - loss: 27.6464\n",
            "Epoch 31/100\n",
            "240/240 [==============================] - 0s 2ms/step - loss: 27.5285\n",
            "Epoch 32/100\n",
            "240/240 [==============================] - 0s 2ms/step - loss: 27.2551\n",
            "Epoch 33/100\n",
            "240/240 [==============================] - 0s 2ms/step - loss: 27.3243\n",
            "Epoch 34/100\n",
            "240/240 [==============================] - 0s 2ms/step - loss: 27.5712\n",
            "Epoch 35/100\n",
            "240/240 [==============================] - 0s 1ms/step - loss: 27.0494\n",
            "Epoch 36/100\n",
            "240/240 [==============================] - 0s 2ms/step - loss: 28.1955\n",
            "Epoch 37/100\n",
            "240/240 [==============================] - 0s 2ms/step - loss: 27.5769\n",
            "Epoch 38/100\n",
            "240/240 [==============================] - 0s 1ms/step - loss: 26.9817\n",
            "Epoch 39/100\n",
            "240/240 [==============================] - 0s 1ms/step - loss: 27.3589\n",
            "Epoch 40/100\n",
            "240/240 [==============================] - 0s 1ms/step - loss: 27.4271\n",
            "Epoch 41/100\n",
            "240/240 [==============================] - 0s 1ms/step - loss: 27.2882\n",
            "Epoch 42/100\n",
            "240/240 [==============================] - 0s 1ms/step - loss: 27.2310\n",
            "Epoch 43/100\n",
            "240/240 [==============================] - 0s 1ms/step - loss: 27.6905\n",
            "Epoch 44/100\n",
            "240/240 [==============================] - 0s 1ms/step - loss: 27.1694\n",
            "Epoch 45/100\n",
            "240/240 [==============================] - 0s 1ms/step - loss: 27.2122\n",
            "Epoch 46/100\n",
            "240/240 [==============================] - 0s 1ms/step - loss: 27.4948\n",
            "Epoch 47/100\n",
            "240/240 [==============================] - 0s 1ms/step - loss: 26.9916\n",
            "Epoch 48/100\n",
            "240/240 [==============================] - 0s 1ms/step - loss: 26.9379\n",
            "Epoch 49/100\n",
            "240/240 [==============================] - 0s 1ms/step - loss: 27.6592\n",
            "Epoch 50/100\n",
            "240/240 [==============================] - 0s 1ms/step - loss: 27.8859\n",
            "Epoch 51/100\n",
            "240/240 [==============================] - 0s 1ms/step - loss: 27.2730\n",
            "Epoch 52/100\n",
            "240/240 [==============================] - 0s 1ms/step - loss: 27.5626\n",
            "Epoch 53/100\n",
            "240/240 [==============================] - 0s 1ms/step - loss: 26.8169\n",
            "Epoch 54/100\n",
            "240/240 [==============================] - 0s 1ms/step - loss: 27.3607\n",
            "Epoch 55/100\n",
            "240/240 [==============================] - 0s 1ms/step - loss: 27.5805\n",
            "Epoch 56/100\n",
            "240/240 [==============================] - 0s 1ms/step - loss: 27.3788\n",
            "Epoch 57/100\n",
            "240/240 [==============================] - 0s 1ms/step - loss: 27.0364\n",
            "Epoch 58/100\n",
            "240/240 [==============================] - 0s 1ms/step - loss: 26.9216\n",
            "Epoch 59/100\n",
            "240/240 [==============================] - 0s 1ms/step - loss: 27.0526\n",
            "Epoch 60/100\n",
            "240/240 [==============================] - 0s 993us/step - loss: 28.1048\n",
            "Epoch 61/100\n",
            "240/240 [==============================] - 0s 1ms/step - loss: 27.5829\n",
            "Epoch 62/100\n",
            "240/240 [==============================] - 0s 985us/step - loss: 27.0880\n",
            "Epoch 63/100\n",
            "240/240 [==============================] - 0s 1ms/step - loss: 27.0311\n",
            "Epoch 64/100\n",
            "240/240 [==============================] - 0s 1ms/step - loss: 26.8828\n",
            "Epoch 65/100\n",
            "240/240 [==============================] - 0s 1ms/step - loss: 27.0668\n",
            "Epoch 66/100\n",
            "240/240 [==============================] - 0s 1ms/step - loss: 26.7434\n",
            "Epoch 67/100\n",
            "240/240 [==============================] - 0s 983us/step - loss: 27.3117\n",
            "Epoch 68/100\n",
            "240/240 [==============================] - 0s 1ms/step - loss: 27.0313\n",
            "Epoch 69/100\n",
            "240/240 [==============================] - 0s 1ms/step - loss: 27.9866\n",
            "Epoch 70/100\n",
            "240/240 [==============================] - 0s 980us/step - loss: 27.1512\n",
            "Epoch 71/100\n",
            "240/240 [==============================] - 0s 1ms/step - loss: 27.7507\n",
            "Epoch 72/100\n",
            "240/240 [==============================] - 0s 987us/step - loss: 27.4795\n",
            "Epoch 73/100\n",
            "240/240 [==============================] - 0s 1ms/step - loss: 26.7535\n",
            "Epoch 74/100\n",
            "240/240 [==============================] - 0s 1ms/step - loss: 27.4414\n",
            "Epoch 75/100\n",
            "240/240 [==============================] - 0s 940us/step - loss: 28.2234\n",
            "Epoch 76/100\n",
            "240/240 [==============================] - 0s 930us/step - loss: 26.9420\n",
            "Epoch 77/100\n",
            "240/240 [==============================] - 0s 1ms/step - loss: 26.7379\n",
            "Epoch 78/100\n",
            "240/240 [==============================] - 0s 1ms/step - loss: 26.8116\n",
            "Epoch 79/100\n",
            "240/240 [==============================] - 0s 983us/step - loss: 27.0303\n",
            "Epoch 80/100\n",
            "240/240 [==============================] - 0s 1ms/step - loss: 27.7926\n",
            "Epoch 81/100\n",
            "240/240 [==============================] - 0s 1ms/step - loss: 26.7576\n",
            "Epoch 82/100\n",
            "240/240 [==============================] - 0s 971us/step - loss: 27.0859\n",
            "Epoch 83/100\n",
            "240/240 [==============================] - 0s 1ms/step - loss: 26.8702\n",
            "Epoch 84/100\n",
            "240/240 [==============================] - 0s 1ms/step - loss: 27.3346\n",
            "Epoch 85/100\n",
            "240/240 [==============================] - 0s 944us/step - loss: 26.7241\n",
            "Epoch 86/100\n",
            "240/240 [==============================] - 0s 1ms/step - loss: 27.0608\n",
            "Epoch 87/100\n",
            "240/240 [==============================] - 0s 960us/step - loss: 26.5225\n",
            "Epoch 88/100\n",
            "240/240 [==============================] - 0s 1ms/step - loss: 27.1012\n",
            "Epoch 89/100\n",
            "240/240 [==============================] - 0s 1ms/step - loss: 27.2224\n",
            "Epoch 90/100\n",
            "240/240 [==============================] - 0s 1ms/step - loss: 26.8772\n",
            "Epoch 91/100\n",
            "240/240 [==============================] - 0s 968us/step - loss: 27.8319\n",
            "Epoch 92/100\n",
            "240/240 [==============================] - 0s 1ms/step - loss: 26.8070\n",
            "Epoch 93/100\n",
            "240/240 [==============================] - 0s 982us/step - loss: 27.0898\n",
            "Epoch 94/100\n",
            "240/240 [==============================] - 0s 1ms/step - loss: 27.1445\n",
            "Epoch 95/100\n",
            "240/240 [==============================] - 0s 977us/step - loss: 27.0407\n",
            "Epoch 96/100\n",
            "240/240 [==============================] - 0s 1ms/step - loss: 26.7256\n",
            "Epoch 97/100\n",
            "240/240 [==============================] - 0s 1ms/step - loss: 26.8355\n",
            "Epoch 98/100\n",
            "240/240 [==============================] - 0s 1ms/step - loss: 26.9048\n",
            "Epoch 99/100\n",
            "240/240 [==============================] - 0s 1ms/step - loss: 27.3296\n",
            "Epoch 100/100\n",
            "240/240 [==============================] - 0s 1ms/step - loss: 27.1269\n"
          ]
        },
        {
          "output_type": "execute_result",
          "data": {
            "text/plain": [
              "<keras.src.callbacks.History at 0x7d7ed2463250>"
            ]
          },
          "metadata": {},
          "execution_count": 11
        }
      ],
      "source": [
        "ann.fit(X_train, y_train, batch_size = 32, epochs = 100)"
      ]
    },
    {
      "cell_type": "markdown",
      "metadata": {
        "id": "0H0zKKNEBLD5"
      },
      "source": [
        "### Predicting the results of the Test set"
      ]
    },
    {
      "cell_type": "code",
      "execution_count": 13,
      "metadata": {
        "colab": {
          "base_uri": "https://localhost:8080/"
        },
        "id": "IA0yApEmBG1X",
        "outputId": "2e070e06-553d-41dc-ca69-6e8fdd553c48"
      },
      "outputs": [
        {
          "output_type": "stream",
          "name": "stdout",
          "text": [
            "60/60 [==============================] - 0s 791us/step\n",
            "[[432.77 431.23]\n",
            " [463.92 460.01]\n",
            " [467.49 461.14]\n",
            " ...\n",
            " [474.64 473.26]\n",
            " [441.41 438.  ]\n",
            " [460.63 463.28]]\n"
          ]
        }
      ],
      "source": [
        "y_pred = ann.predict(X_test)\n",
        "np.set_printoptions(precision=2)\n",
        "print(np.concatenate((y_pred.reshape(len(y_pred),1), y_test.reshape(len(y_test),1)),1))"
      ]
    }
  ],
  "metadata": {
    "colab": {
      "provenance": [],
      "include_colab_link": true
    },
    "kernelspec": {
      "display_name": "Python 3",
      "name": "python3"
    }
  },
  "nbformat": 4,
  "nbformat_minor": 0
}